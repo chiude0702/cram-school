{
 "cells": [
  {
   "cell_type": "code",
   "execution_count": 11,
   "metadata": {},
   "outputs": [
    {
     "name": "stdout",
     "output_type": "stream",
     "text": [
      "1\n",
      "(4,)\n"
     ]
    }
   ],
   "source": [
    "import numpy as np\n",
    "x = np.array([35,63,798,56])\n",
    "print(x.ndim)\n",
    "print(x.shape)"
   ]
  },
  {
   "cell_type": "code",
   "execution_count": 3,
   "metadata": {},
   "outputs": [],
   "source": [
    "import keras\n",
    "import tensorflow as tf"
   ]
  },
  {
   "cell_type": "code",
   "execution_count": 5,
   "metadata": {},
   "outputs": [
    {
     "name": "stdout",
     "output_type": "stream",
     "text": [
      "Tensor(\"Const_2:0\", shape=(), dtype=int32) Tensor(\"Const_3:0\", shape=(), dtype=int32)\n",
      "[3, 4]\n"
     ]
    }
   ],
   "source": [
    "# tensor 3種型態 constant variable placeholder\n",
    "node1 = tf.constant(3)   #常數為3的tensor\n",
    "node2 = tf.constant(4)   #常數為3的tensor\n",
    "print(node1,node2)\n",
    "\n",
    "#node 代表了兩個constant\n",
    "sess = tf.Session()\n",
    "print(sess.run([node1,node2]))"
   ]
  },
  {
   "cell_type": "code",
   "execution_count": 6,
   "metadata": {},
   "outputs": [
    {
     "name": "stdout",
     "output_type": "stream",
     "text": [
      "Tensor(\"Add:0\", shape=(), dtype=int32)\n"
     ]
    }
   ],
   "source": [
    "#建立運算圖 (流程)\n",
    "node3 = tf.add(node1,node2)\n",
    "print(node3)"
   ]
  },
  {
   "cell_type": "markdown",
   "metadata": {},
   "source": [
    "# Placeholder\n",
    "#先建好運算圖再決定 input & output\n",
    "這時候就需要placeholder 在還沒有資料時先佔位子"
   ]
  },
  {
   "cell_type": "code",
   "execution_count": 16,
   "metadata": {},
   "outputs": [
    {
     "name": "stdout",
     "output_type": "stream",
     "text": [
      "7.5\n",
      "[3. 7.]\n"
     ]
    }
   ],
   "source": [
    "a = tf.placeholder(float)\n",
    "b = tf.placeholder(float)\n",
    "add_node = a+b\n",
    "add_node\n",
    "print(sess.run(add_node,{a:3,b:4.5}))\n",
    "print(sess.run(add_node,{a:[1,3],b:[2,4]}))"
   ]
  },
  {
   "cell_type": "code",
   "execution_count": 26,
   "metadata": {},
   "outputs": [
    {
     "name": "stdout",
     "output_type": "stream",
     "text": [
      "1\n",
      "3\n",
      "<tensorflow.python.client.session.Session object at 0x00000000053EFC50>\n",
      "<tensorflow.python.client.session.Session object at 0x00000000053EFC50>\n"
     ]
    }
   ],
   "source": [
    "input_data = tf.constant([1,3,4,6])\n",
    "rank_input_data = tf.rank(input_data)\n",
    "# tf.rank 會回傳一個張量的維數，而不是元素的數量\n",
    "result = tf.argmax(input_data,0)\n",
    "with tf.Session() as sess:\n",
    "    tf.global_variables_initializer().run()\n",
    "    print(sess.run(rank_input_data))\n",
    "    print(sess.run(result))\n",
    "    print(sess)"
   ]
  },
  {
   "cell_type": "code",
   "execution_count": 35,
   "metadata": {},
   "outputs": [
    {
     "name": "stdout",
     "output_type": "stream",
     "text": [
      "[4 3]\n",
      "12\n",
      "2\n",
      "<tensorflow.python.client.session.Session object at 0x000000000541C978>\n"
     ]
    }
   ],
   "source": [
    "t = tf.constant([[1,1,1],[2,2,2],[3,3,3],[4,4,4]])\n",
    "sess = tf.Session()\n",
    "print(sess.run(tf.shape(t)))\n",
    "print(sess.run(tf.size(t)))\n",
    "print(sess.run(tf.rank(t)))\n",
    "print(sess)"
   ]
  },
  {
   "cell_type": "markdown",
   "metadata": {},
   "source": [
    "張量\n",
    "2D (sample, feature)\n",
    "時間序列 3D (sample, timesteps, feature)\n",
    "圖像 4D (sample, height, width, channels)  or (sample, channel, height, width)\n",
    "視頻 5D (sample, frame, height, width, channels) or (sample, frame, channels, height, width)"
   ]
  },
  {
   "cell_type": "code",
   "execution_count": 33,
   "metadata": {},
   "outputs": [
    {
     "name": "stdout",
     "output_type": "stream",
     "text": [
      "(3, 2)\n",
      "[[0 1 2]\n",
      " [3 4 5]]\n"
     ]
    }
   ],
   "source": [
    "x = np.array([[0,1],[2,3],[4,5]])\n",
    "print(x.shape)\n",
    "x = x.reshape((6,1))\n",
    "x = x.reshape((2,3))\n",
    "print(x)"
   ]
  },
  {
   "cell_type": "code",
   "execution_count": 40,
   "metadata": {},
   "outputs": [],
   "source": [
    "from keras.models import Sequential\n",
    "from keras.layers import Dense, Activation\n",
    "model = Sequential([\n",
    "    Dense(32,input_shape = (784,)),\n",
    "    Activation('relu'),\n",
    "    Dense(10),\n",
    "    Activation('softmax')\n",
    "])\n",
    "#model.summary()\n",
    "model = Sequential()\n",
    "model.add(Dense(32,input_dim = 784))\n",
    "model.add(Activation('relu'))\n",
    "#model.summary()"
   ]
  },
  {
   "cell_type": "markdown",
   "metadata": {},
   "source": [
    "optimizer: rmsprop adagrad\n",
    "loss: categorical_crossentropy\n",
    "metrics: accuracy"
   ]
  },
  {
   "cell_type": "code",
   "execution_count": null,
   "metadata": {},
   "outputs": [],
   "source": [
    "model.compile(optimizer='rmsprop',loss = 'categorical_crossentropy',metrics=['accuracy'])\n",
    "model.compile(optimizer='rmsprop',loss = 'binary_crossentropy',metrics=['accuracy'])\n",
    "model.compile(optimizer='rmsprop',loss = 'mse')\n"
   ]
  },
  {
   "cell_type": "code",
   "execution_count": 42,
   "metadata": {},
   "outputs": [],
   "source": [
    "import keras.backend as k\n",
    "def mean_pred(y_true,y_pred):\n",
    "    return k.mean(y_pred)\n",
    "model.compile(optimizer='rmsprop',loss = 'binary_crossentropy',metrics=['accuracy',mean_pred])"
   ]
  },
  {
   "cell_type": "code",
   "execution_count": 64,
   "metadata": {},
   "outputs": [],
   "source": [
    "model = Sequential()\n",
    "model.add(Dense(32,activation='relu',input_dim=100))\n",
    "model.add(Dense(1,activation='sigmoid'))\n",
    "model.compile(optimizer='rmsprop',loss = 'binary_crossentropy',metrics=['accuracy'])"
   ]
  },
  {
   "cell_type": "code",
   "execution_count": 59,
   "metadata": {},
   "outputs": [
    {
     "name": "stdout",
     "output_type": "stream",
     "text": [
      "_________________________________________________________________\n",
      "Layer (type)                 Output Shape              Param #   \n",
      "=================================================================\n",
      "dense_24 (Dense)             (None, 32)                3232      \n",
      "_________________________________________________________________\n",
      "dense_25 (Dense)             (None, 1)                 33        \n",
      "=================================================================\n",
      "Total params: 3,265\n",
      "Trainable params: 3,265\n",
      "Non-trainable params: 0\n",
      "_________________________________________________________________\n"
     ]
    }
   ],
   "source": [
    "model.summary()"
   ]
  },
  {
   "cell_type": "code",
   "execution_count": 65,
   "metadata": {},
   "outputs": [
    {
     "name": "stdout",
     "output_type": "stream",
     "text": [
      "WARNING:tensorflow:From C:\\ProgramData\\Anaconda3\\lib\\site-packages\\tensorflow\\python\\ops\\math_ops.py:3066: to_int32 (from tensorflow.python.ops.math_ops) is deprecated and will be removed in a future version.\n",
      "Instructions for updating:\n",
      "Use tf.cast instead.\n",
      "Epoch 1/10\n",
      "1000/1000 [==============================] - 1s 628us/step - loss: 0.7021 - acc: 0.5060\n",
      "Epoch 2/10\n",
      "1000/1000 [==============================] - 0s 42us/step - loss: 0.6940 - acc: 0.5220\n",
      "Epoch 3/10\n",
      "1000/1000 [==============================] - 0s 44us/step - loss: 0.6882 - acc: 0.5350\n",
      "Epoch 4/10\n",
      "1000/1000 [==============================] - 0s 46us/step - loss: 0.6844 - acc: 0.5500\n",
      "Epoch 5/10\n",
      "1000/1000 [==============================] - 0s 45us/step - loss: 0.6786 - acc: 0.5800\n",
      "Epoch 6/10\n",
      "1000/1000 [==============================] - 0s 43us/step - loss: 0.6733 - acc: 0.5810\n",
      "Epoch 7/10\n",
      "1000/1000 [==============================] - 0s 46us/step - loss: 0.6685 - acc: 0.5920\n",
      "Epoch 8/10\n",
      "1000/1000 [==============================] - 0s 44us/step - loss: 0.6669 - acc: 0.5870\n",
      "Epoch 9/10\n",
      "1000/1000 [==============================] - 0s 49us/step - loss: 0.6627 - acc: 0.6050\n",
      "Epoch 10/10\n",
      "1000/1000 [==============================] - 0s 47us/step - loss: 0.6608 - acc: 0.6110\n"
     ]
    },
    {
     "data": {
      "text/plain": [
       "<keras.callbacks.History at 0xeb4f390>"
      ]
     },
     "execution_count": 65,
     "metadata": {},
     "output_type": "execute_result"
    }
   ],
   "source": [
    "data = np.random.random((1000,100))\n",
    "labels = np.random.randint(2,size=(1000,1))\n",
    "model.fit(data,labels,epochs=10,batch_size=32)"
   ]
  },
  {
   "cell_type": "code",
   "execution_count": 46,
   "metadata": {},
   "outputs": [
    {
     "data": {
      "text/plain": [
       "(1000, 100)"
      ]
     },
     "execution_count": 46,
     "metadata": {},
     "output_type": "execute_result"
    }
   ],
   "source": [
    "data.shape"
   ]
  },
  {
   "cell_type": "code",
   "execution_count": 67,
   "metadata": {},
   "outputs": [
    {
     "data": {
      "text/plain": [
       "array([[1],\n",
       "       [0],\n",
       "       [1],\n",
       "       [1],\n",
       "       [2],\n",
       "       [1],\n",
       "       [1],\n",
       "       [0],\n",
       "       [2],\n",
       "       [1]])"
      ]
     },
     "execution_count": 67,
     "metadata": {},
     "output_type": "execute_result"
    }
   ],
   "source": [
    "np.random.randint(3,size=(10,1))"
   ]
  },
  {
   "cell_type": "code",
   "execution_count": 70,
   "metadata": {},
   "outputs": [],
   "source": [
    "from keras.optimizers import SGD\n",
    "model = Sequential()\n",
    "model.add(Dense(32,activation='relu',input_dim=100))\n",
    "model.add(Dense(10,activation='sigmoid'))\n",
    "\n",
    "model.compile(optimizer=SGD(lr=0.001,decay=1e-6,momentum=0.7),loss = 'categorical_crossentropy',metrics=['accuracy'])"
   ]
  },
  {
   "cell_type": "code",
   "execution_count": 72,
   "metadata": {},
   "outputs": [
    {
     "name": "stdout",
     "output_type": "stream",
     "text": [
      "Epoch 1/20\n",
      "1000/1000 [==============================] - 0s 327us/step - loss: 2.3183 - acc: 0.0890\n",
      "Epoch 2/20\n",
      "1000/1000 [==============================] - 0s 43us/step - loss: 2.3142 - acc: 0.0930\n",
      "Epoch 3/20\n",
      "1000/1000 [==============================] - 0s 41us/step - loss: 2.3116 - acc: 0.0900\n",
      "Epoch 4/20\n",
      "1000/1000 [==============================] - 0s 44us/step - loss: 2.3093 - acc: 0.0930\n",
      "Epoch 5/20\n",
      "1000/1000 [==============================] - 0s 37us/step - loss: 2.3076 - acc: 0.0990\n",
      "Epoch 6/20\n",
      "1000/1000 [==============================] - 0s 43us/step - loss: 2.3062 - acc: 0.0990\n",
      "Epoch 7/20\n",
      "1000/1000 [==============================] - 0s 44us/step - loss: 2.3048 - acc: 0.1050\n",
      "Epoch 8/20\n",
      "1000/1000 [==============================] - 0s 43us/step - loss: 2.3036 - acc: 0.1100\n",
      "Epoch 9/20\n",
      "1000/1000 [==============================] - 0s 44us/step - loss: 2.3026 - acc: 0.1110\n",
      "Epoch 10/20\n",
      "1000/1000 [==============================] - 0s 46us/step - loss: 2.3015 - acc: 0.1110\n",
      "Epoch 11/20\n",
      "1000/1000 [==============================] - 0s 37us/step - loss: 2.3004 - acc: 0.1130\n",
      "Epoch 12/20\n",
      "1000/1000 [==============================] - 0s 38us/step - loss: 2.2994 - acc: 0.1130\n",
      "Epoch 13/20\n",
      "1000/1000 [==============================] - 0s 47us/step - loss: 2.2984 - acc: 0.1150\n",
      "Epoch 14/20\n",
      "1000/1000 [==============================] - 0s 47us/step - loss: 2.2976 - acc: 0.1160\n",
      "Epoch 15/20\n",
      "1000/1000 [==============================] - 0s 37us/step - loss: 2.2968 - acc: 0.1120\n",
      "Epoch 16/20\n",
      "1000/1000 [==============================] - 0s 45us/step - loss: 2.2960 - acc: 0.1130\n",
      "Epoch 17/20\n",
      "1000/1000 [==============================] - 0s 37us/step - loss: 2.2952 - acc: 0.1200\n",
      "Epoch 18/20\n",
      "1000/1000 [==============================] - 0s 46us/step - loss: 2.2945 - acc: 0.1200\n",
      "Epoch 19/20\n",
      "1000/1000 [==============================] - 0s 38us/step - loss: 2.2939 - acc: 0.1160\n",
      "Epoch 20/20\n",
      "1000/1000 [==============================] - 0s 45us/step - loss: 2.2931 - acc: 0.1250\n"
     ]
    },
    {
     "data": {
      "text/plain": [
       "<keras.callbacks.History at 0x10e154e0>"
      ]
     },
     "execution_count": 72,
     "metadata": {},
     "output_type": "execute_result"
    }
   ],
   "source": [
    "data = np.random.random((1000,100))\n",
    "labels = np.random.randint(10,size=(1000,1))\n",
    "one_hot_label = keras.utils.to_categorical(labels)\n",
    "model.fit(data,one_hot_label,epochs=20,batch_size=32)"
   ]
  },
  {
   "cell_type": "code",
   "execution_count": 74,
   "metadata": {},
   "outputs": [
    {
     "name": "stdout",
     "output_type": "stream",
     "text": [
      "Downloading data from https://s3.amazonaws.com/text-datasets/reuters.npz\n",
      "2113536/2110848 [==============================] - 3s 2us/step\n"
     ]
    }
   ],
   "source": [
    "from keras.datasets import reuters\n",
    "(train_data, train_labels),(test_data,test_labels)=reuters.load_data(num_words=10000)"
   ]
  },
  {
   "cell_type": "code",
   "execution_count": 79,
   "metadata": {},
   "outputs": [
    {
     "name": "stdout",
     "output_type": "stream",
     "text": [
      "(8982,) (8982,)\n",
      "(2246,) (2246,)\n",
      "31\n"
     ]
    }
   ],
   "source": [
    "print(train_data.shape,train_labels.shape)\n",
    "print(test_data.shape,test_labels.shape)\n",
    "print(len(train_data[10]))"
   ]
  },
  {
   "cell_type": "code",
   "execution_count": 78,
   "metadata": {},
   "outputs": [],
   "source": [
    "def vectorize_sequence(seq, dim = 10000):\n",
    "    results = np.zeros((len(seq),dim))\n",
    "    for i , seq in enumerate(seq):\n",
    "        results[i,seq]=1.\n",
    "    return results\n",
    "\n",
    "x_train = vectorize_sequence(train_data)\n",
    "x_test = vectorize_sequence(test_data)\n",
    "\n",
    "def one_hot_seq(seq, dim = 46):\n",
    "    results = np.zeros((len(seq),dim))\n",
    "    for i , seq in enumerate(seq):\n",
    "        results[i,seq]=1.\n",
    "    return results\n",
    "\n",
    "y_train = one_hot_seq(train_labels)\n",
    "y_test = one_hot_seq(test_labels)"
   ]
  },
  {
   "cell_type": "code",
   "execution_count": 123,
   "metadata": {},
   "outputs": [],
   "source": [
    "from keras import models,layers\n",
    "from keras.optimizers import Adam\n",
    "model = Sequential()\n",
    "model.add(Dense(64,activation='relu',input_dim=10000))\n",
    "model.add(Dense(64,activation='sigmoid'))\n",
    "model.add(Dense(46,activation='softmax'))\n",
    "adam = Adam(lr = .001, decay = 1e-5)\n",
    "model.compile(optimizer='rmsprop',loss='categorical_crossentropy',metrics=['accuracy'])"
   ]
  },
  {
   "cell_type": "code",
   "execution_count": 124,
   "metadata": {},
   "outputs": [
    {
     "name": "stdout",
     "output_type": "stream",
     "text": [
      "Train on 7982 samples, validate on 1000 samples\n",
      "Epoch 1/20\n",
      "7982/7982 [==============================] - 3s 328us/step - loss: 1.9383 - acc: 0.5757 - val_loss: 1.4387 - val_acc: 0.6940\n",
      "Epoch 2/20\n",
      "7982/7982 [==============================] - 2s 232us/step - loss: 1.1955 - acc: 0.7289 - val_loss: 1.1967 - val_acc: 0.7280\n",
      "Epoch 3/20\n",
      "7982/7982 [==============================] - 2s 230us/step - loss: 0.9273 - acc: 0.7979 - val_loss: 1.0891 - val_acc: 0.7590\n",
      "Epoch 4/20\n",
      "7982/7982 [==============================] - 2s 235us/step - loss: 0.7346 - acc: 0.8425 - val_loss: 1.0130 - val_acc: 0.7670\n",
      "Epoch 5/20\n",
      "7982/7982 [==============================] - 2s 233us/step - loss: 0.5881 - acc: 0.8717 - val_loss: 0.9625 - val_acc: 0.7820\n",
      "Epoch 6/20\n",
      "7982/7982 [==============================] - 2s 290us/step - loss: 0.4751 - acc: 0.9005 - val_loss: 0.9264 - val_acc: 0.7850\n",
      "Epoch 7/20\n",
      "7982/7982 [==============================] - 2s 233us/step - loss: 0.3863 - acc: 0.9208 - val_loss: 0.9418 - val_acc: 0.7880\n",
      "Epoch 8/20\n",
      "7982/7982 [==============================] - 2s 238us/step - loss: 0.3195 - acc: 0.9308 - val_loss: 0.9127 - val_acc: 0.8020\n",
      "Epoch 9/20\n",
      "7982/7982 [==============================] - 2s 242us/step - loss: 0.2660 - acc: 0.9400 - val_loss: 0.9322 - val_acc: 0.7900\n",
      "Epoch 10/20\n",
      "7982/7982 [==============================] - 2s 234us/step - loss: 0.2248 - acc: 0.9490 - val_loss: 0.9524 - val_acc: 0.7920\n",
      "Epoch 11/20\n",
      "7982/7982 [==============================] - 2s 254us/step - loss: 0.1932 - acc: 0.9555 - val_loss: 0.9621 - val_acc: 0.7960\n",
      "Epoch 12/20\n",
      "7982/7982 [==============================] - 2s 240us/step - loss: 0.1692 - acc: 0.9563 - val_loss: 0.9837 - val_acc: 0.7950\n",
      "Epoch 13/20\n",
      "7982/7982 [==============================] - 2s 254us/step - loss: 0.1501 - acc: 0.9590 - val_loss: 1.0228 - val_acc: 0.7880\n",
      "Epoch 14/20\n",
      "7982/7982 [==============================] - 3s 318us/step - loss: 0.1352 - acc: 0.9609 - val_loss: 1.0239 - val_acc: 0.7890\n",
      "Epoch 15/20\n",
      "7982/7982 [==============================] - 2s 243us/step - loss: 0.1243 - acc: 0.9609 - val_loss: 1.0537 - val_acc: 0.7960\n",
      "Epoch 16/20\n",
      "7982/7982 [==============================] - 2s 241us/step - loss: 0.1134 - acc: 0.9599 - val_loss: 1.1139 - val_acc: 0.7890\n",
      "Epoch 17/20\n",
      "7982/7982 [==============================] - 2s 241us/step - loss: 0.1078 - acc: 0.9613 - val_loss: 1.1132 - val_acc: 0.7900\n",
      "Epoch 18/20\n",
      "7982/7982 [==============================] - 2s 242us/step - loss: 0.1022 - acc: 0.9627 - val_loss: 1.1299 - val_acc: 0.7840\n",
      "Epoch 19/20\n",
      "7982/7982 [==============================] - 2s 238us/step - loss: 0.0963 - acc: 0.9617 - val_loss: 1.1657 - val_acc: 0.7870\n",
      "Epoch 20/20\n",
      "7982/7982 [==============================] - 2s 242us/step - loss: 0.0934 - acc: 0.9620 - val_loss: 1.2225 - val_acc: 0.7810\n"
     ]
    }
   ],
   "source": [
    "x_val = x_train[-1000:]\n",
    "part_x_train = x_train[:-1000]\n",
    "y_val = y_train[-1000:]\n",
    "part_y_train = y_train[:-1000]\n",
    "\n",
    "history = model.fit(part_x_train,part_y_train,epochs=20,batch_size=64,validation_data=(x_val,y_val))"
   ]
  },
  {
   "cell_type": "code",
   "execution_count": 135,
   "metadata": {},
   "outputs": [
    {
     "data": {
      "image/png": "[encoded data removed]",
      "text/plain": [
       "<Figure size 432x288 with 1 Axes>"
      ]
     },
     "metadata": {
      "needs_background": "light"
     },
     "output_type": "display_data"
    }
   ],
   "source": [
    "import matplotlib.pyplot as plt\n",
    "plt.plot(history.epoch,history.history['loss'],label='loss')\n",
    "plt.plot(history.epoch,history.history['val_loss'],'or',label='val_loss')\n",
    "plt.xlabel('Epochs')\n",
    "plt.ylabel('loss')\n",
    "plt.legend()\n",
    "plt.show()"
   ]
  },
  {
   "cell_type": "code",
   "execution_count": 136,
   "metadata": {},
   "outputs": [
    {
     "name": "stdout",
     "output_type": "stream",
     "text": [
      "Collecting sklearn\n",
      "  Downloading https://files.pythonhosted.org/packages/1e/7a/dbb3be0ce9bd5c8b7e3d87328e79063f8b263b2b1bfa4774cb1147bfcd3f/sklearn-0.0.tar.gz\n",
      "Requirement already satisfied: scikit-learn in c:\\programdata\\anaconda3\\lib\\site-packages (from sklearn) (0.19.2)\n",
      "Building wheels for collected packages: sklearn\n",
      "  Running setup.py bdist_wheel for sklearn: started\n",
      "  Running setup.py bdist_wheel for sklearn: finished with status 'done'\n",
      "  Stored in directory: C:\\Users\\ASUS\\AppData\\Local\\pip\\Cache\\wheels\\76\\03\\bb\\589d421d27431bcd2c6da284d5f2286c8e3b2ea3cf1594c074\n",
      "Successfully built sklearn\n",
      "Installing collected packages: sklearn\n",
      "Successfully installed sklearn-0.0\n"
     ]
    },
    {
     "name": "stderr",
     "output_type": "stream",
     "text": [
      "twisted 18.7.0 requires PyHamcrest>=1.9.0, which is not installed.\n",
      "You are using pip version 10.0.1, however version 19.3.1 is available.\n",
      "You should consider upgrading via the 'python -m pip install --upgrade pip' command.\n"
     ]
    }
   ],
   "source": [
    "!pip install sklearn"
   ]
  },
  {
   "cell_type": "code",
   "execution_count": 147,
   "metadata": {},
   "outputs": [
    {
     "name": "stderr",
     "output_type": "stream",
     "text": [
      "C:\\ProgramData\\Anaconda3\\lib\\site-packages\\sklearn\\base.py:311: UserWarning: Trying to unpickle estimator KNeighborsClassifier from version 0.20.0 when using version 0.19.2. This might lead to breaking code or invalid results. Use at your own risk.\n",
      "  UserWarning)\n"
     ]
    }
   ],
   "source": [
    "from sklearn.externals import joblib\n",
    "loadknnmodel = joblib.load('iris_knn.pkl')"
   ]
  },
  {
   "cell_type": "code",
   "execution_count": 148,
   "metadata": {},
   "outputs": [
    {
     "data": {
      "text/plain": [
       "KNeighborsClassifier(algorithm='auto', leaf_size=30, metric='minkowski',\n",
       "           metric_params=None, n_jobs=None, n_neighbors=1, p=2,\n",
       "           weights='uniform')"
      ]
     },
     "execution_count": 148,
     "metadata": {},
     "output_type": "execute_result"
    }
   ],
   "source": [
    "loadknnmodel"
   ]
  },
  {
   "cell_type": "code",
   "execution_count": null,
   "metadata": {},
   "outputs": [],
   "source": []
  },
  {
   "cell_type": "code",
   "execution_count": 143,
   "metadata": {},
   "outputs": [
    {
     "name": "stdout",
     "output_type": "stream",
     "text": [
      "請輸入鳶尾花樣本尺寸(單位為公分):\n",
      "sepal len in cm:4\n",
      "sepal wid in cm:6\n",
      "petal len in cm:3\n",
      "petal wid in cm:8\n"
     ]
    }
   ],
   "source": [
    "print('請輸入鳶尾花樣本尺寸(單位為公分):')\n",
    "sepal_len = float(input('sepal len in cm:'))\n",
    "sepal_wid = float(input('sepal wid in cm:'))\n",
    "petal_len = float(input('petal len in cm:'))\n",
    "petal_wid = float(input('petal wid in cm:'))\n",
    "input_array = np.array([[sepal_len,sepal_wid,petal_len,petal_wid]])"
   ]
  },
  {
   "cell_type": "code",
   "execution_count": 146,
   "metadata": {},
   "outputs": [
    {
     "data": {
      "text/plain": [
       "array([[4., 6., 3., 8.]])"
      ]
     },
     "execution_count": 146,
     "metadata": {},
     "output_type": "execute_result"
    }
   ],
   "source": [
    "input_array"
   ]
  },
  {
   "cell_type": "code",
   "execution_count": 144,
   "metadata": {},
   "outputs": [
    {
     "ename": "TypeError",
     "evalue": "'<' not supported between instances of 'NoneType' and 'int'",
     "output_type": "error",
     "traceback": [
      "\u001b[1;31m---------------------------------------------------------------------------\u001b[0m",
      "\u001b[1;31mTypeError\u001b[0m                                 Traceback (most recent call last)",
      "\u001b[1;32m<ipython-input-144-b09ba4054bc9>\u001b[0m in \u001b[0;36m<module>\u001b[1;34m()\u001b[0m\n\u001b[1;32m----> 1\u001b[1;33m \u001b[0mpred\u001b[0m \u001b[1;33m=\u001b[0m \u001b[0mloadknnmodel\u001b[0m\u001b[1;33m.\u001b[0m\u001b[0mpredict\u001b[0m\u001b[1;33m(\u001b[0m\u001b[0minput_array\u001b[0m\u001b[1;33m)\u001b[0m\u001b[1;33m\u001b[0m\u001b[0m\n\u001b[0m\u001b[0;32m      2\u001b[0m \u001b[0mdict_iris\u001b[0m \u001b[1;33m=\u001b[0m \u001b[1;33m{\u001b[0m\u001b[1;36m0\u001b[0m\u001b[1;33m:\u001b[0m\u001b[1;34m'iris-setose'\u001b[0m\u001b[1;33m,\u001b[0m\u001b[1;36m1\u001b[0m\u001b[1;33m:\u001b[0m\u001b[1;34m'versicolor'\u001b[0m\u001b[1;33m,\u001b[0m\u001b[1;36m2\u001b[0m\u001b[1;33m:\u001b[0m\u001b[1;34m'virginion'\u001b[0m\u001b[1;33m}\u001b[0m\u001b[1;33m\u001b[0m\u001b[0m\n\u001b[0;32m      3\u001b[0m \u001b[0mprint\u001b[0m\u001b[1;33m(\u001b[0m\u001b[1;34m'='\u001b[0m\u001b[1;33m*\u001b[0m\u001b[1;36m50\u001b[0m\u001b[1;33m)\u001b[0m\u001b[1;33m\u001b[0m\u001b[0m\n\u001b[0;32m      4\u001b[0m \u001b[0mprint\u001b[0m\u001b[1;33m(\u001b[0m\u001b[1;34m'鳶尾花樣本尺寸'\u001b[0m\u001b[1;33m)\u001b[0m\u001b[1;33m\u001b[0m\u001b[0m\n\u001b[0;32m      5\u001b[0m \u001b[0mprint\u001b[0m\u001b[1;33m(\u001b[0m\u001b[1;34m'預測品種為:'\u001b[0m\u001b[1;33m,\u001b[0m\u001b[0mdict_iris\u001b[0m\u001b[1;33m[\u001b[0m\u001b[0mpred\u001b[0m\u001b[1;33m[\u001b[0m\u001b[1;36m0\u001b[0m\u001b[1;33m]\u001b[0m\u001b[1;33m]\u001b[0m\u001b[1;33m)\u001b[0m\u001b[1;33m\u001b[0m\u001b[0m\n",
      "\u001b[1;32mC:\\ProgramData\\Anaconda3\\lib\\site-packages\\sklearn\\neighbors\\classification.py\u001b[0m in \u001b[0;36mpredict\u001b[1;34m(self, X)\u001b[0m\n\u001b[0;32m    143\u001b[0m         \u001b[0mX\u001b[0m \u001b[1;33m=\u001b[0m \u001b[0mcheck_array\u001b[0m\u001b[1;33m(\u001b[0m\u001b[0mX\u001b[0m\u001b[1;33m,\u001b[0m \u001b[0maccept_sparse\u001b[0m\u001b[1;33m=\u001b[0m\u001b[1;34m'csr'\u001b[0m\u001b[1;33m)\u001b[0m\u001b[1;33m\u001b[0m\u001b[0m\n\u001b[0;32m    144\u001b[0m \u001b[1;33m\u001b[0m\u001b[0m\n\u001b[1;32m--> 145\u001b[1;33m         \u001b[0mneigh_dist\u001b[0m\u001b[1;33m,\u001b[0m \u001b[0mneigh_ind\u001b[0m \u001b[1;33m=\u001b[0m \u001b[0mself\u001b[0m\u001b[1;33m.\u001b[0m\u001b[0mkneighbors\u001b[0m\u001b[1;33m(\u001b[0m\u001b[0mX\u001b[0m\u001b[1;33m)\u001b[0m\u001b[1;33m\u001b[0m\u001b[0m\n\u001b[0m\u001b[0;32m    146\u001b[0m \u001b[1;33m\u001b[0m\u001b[0m\n\u001b[0;32m    147\u001b[0m         \u001b[0mclasses_\u001b[0m \u001b[1;33m=\u001b[0m \u001b[0mself\u001b[0m\u001b[1;33m.\u001b[0m\u001b[0mclasses_\u001b[0m\u001b[1;33m\u001b[0m\u001b[0m\n",
      "\u001b[1;32mC:\\ProgramData\\Anaconda3\\lib\\site-packages\\sklearn\\neighbors\\base.py\u001b[0m in \u001b[0;36mkneighbors\u001b[1;34m(self, X, n_neighbors, return_distance)\u001b[0m\n\u001b[0;32m    350\u001b[0m         \u001b[0msample_range\u001b[0m \u001b[1;33m=\u001b[0m \u001b[0mnp\u001b[0m\u001b[1;33m.\u001b[0m\u001b[0marange\u001b[0m\u001b[1;33m(\u001b[0m\u001b[0mn_samples\u001b[0m\u001b[1;33m)\u001b[0m\u001b[1;33m[\u001b[0m\u001b[1;33m:\u001b[0m\u001b[1;33m,\u001b[0m \u001b[1;32mNone\u001b[0m\u001b[1;33m]\u001b[0m\u001b[1;33m\u001b[0m\u001b[0m\n\u001b[0;32m    351\u001b[0m \u001b[1;33m\u001b[0m\u001b[0m\n\u001b[1;32m--> 352\u001b[1;33m         \u001b[0mn_jobs\u001b[0m \u001b[1;33m=\u001b[0m \u001b[0m_get_n_jobs\u001b[0m\u001b[1;33m(\u001b[0m\u001b[0mself\u001b[0m\u001b[1;33m.\u001b[0m\u001b[0mn_jobs\u001b[0m\u001b[1;33m)\u001b[0m\u001b[1;33m\u001b[0m\u001b[0m\n\u001b[0m\u001b[0;32m    353\u001b[0m         \u001b[1;32mif\u001b[0m \u001b[0mself\u001b[0m\u001b[1;33m.\u001b[0m\u001b[0m_fit_method\u001b[0m \u001b[1;33m==\u001b[0m \u001b[1;34m'brute'\u001b[0m\u001b[1;33m:\u001b[0m\u001b[1;33m\u001b[0m\u001b[0m\n\u001b[0;32m    354\u001b[0m             \u001b[1;31m# for efficiency, use squared euclidean distances\u001b[0m\u001b[1;33m\u001b[0m\u001b[1;33m\u001b[0m\u001b[0m\n",
      "\u001b[1;32mC:\\ProgramData\\Anaconda3\\lib\\site-packages\\sklearn\\utils\\__init__.py\u001b[0m in \u001b[0;36m_get_n_jobs\u001b[1;34m(n_jobs)\u001b[0m\n\u001b[0;32m    462\u001b[0m     \u001b[0mValueError\u001b[0m\u001b[1;33m:\u001b[0m \u001b[0mParameter\u001b[0m \u001b[0mn_jobs\u001b[0m \u001b[1;33m==\u001b[0m \u001b[1;36m0\u001b[0m \u001b[0mhas\u001b[0m \u001b[0mno\u001b[0m \u001b[0mmeaning\u001b[0m\u001b[1;33m.\u001b[0m\u001b[1;33m\u001b[0m\u001b[0m\n\u001b[0;32m    463\u001b[0m     \"\"\"\n\u001b[1;32m--> 464\u001b[1;33m     \u001b[1;32mif\u001b[0m \u001b[0mn_jobs\u001b[0m \u001b[1;33m<\u001b[0m \u001b[1;36m0\u001b[0m\u001b[1;33m:\u001b[0m\u001b[1;33m\u001b[0m\u001b[0m\n\u001b[0m\u001b[0;32m    465\u001b[0m         \u001b[1;32mreturn\u001b[0m \u001b[0mmax\u001b[0m\u001b[1;33m(\u001b[0m\u001b[0mcpu_count\u001b[0m\u001b[1;33m(\u001b[0m\u001b[1;33m)\u001b[0m \u001b[1;33m+\u001b[0m \u001b[1;36m1\u001b[0m \u001b[1;33m+\u001b[0m \u001b[0mn_jobs\u001b[0m\u001b[1;33m,\u001b[0m \u001b[1;36m1\u001b[0m\u001b[1;33m)\u001b[0m\u001b[1;33m\u001b[0m\u001b[0m\n\u001b[0;32m    466\u001b[0m     \u001b[1;32melif\u001b[0m \u001b[0mn_jobs\u001b[0m \u001b[1;33m==\u001b[0m \u001b[1;36m0\u001b[0m\u001b[1;33m:\u001b[0m\u001b[1;33m\u001b[0m\u001b[0m\n",
      "\u001b[1;31mTypeError\u001b[0m: '<' not supported between instances of 'NoneType' and 'int'"
     ]
    }
   ],
   "source": [
    "pred = loadknnmodel.predict(input_array)\n",
    "dict_iris = {0:'iris-setose',1:'versicolor',2:'virginion'}\n",
    "print('='*50)\n",
    "print('鳶尾花樣本尺寸')\n",
    "print('預測品種為:',dict_iris[pred[0]])"
   ]
  },
  {
   "cell_type": "code",
   "execution_count": 149,
   "metadata": {},
   "outputs": [
    {
     "name": "stderr",
     "output_type": "stream",
     "text": [
      "C:\\ProgramData\\Anaconda3\\lib\\site-packages\\sklearn\\base.py:311: UserWarning: Trying to unpickle estimator KNeighborsClassifier from version 0.20.0 when using version 0.19.2. This might lead to breaking code or invalid results. Use at your own risk.\n",
      "  UserWarning)\n"
     ]
    },
    {
     "name": "stdout",
     "output_type": "stream",
     "text": [
      "請輸入鳶尾花)樣本尺寸(單位為公分):\n",
      "sepal length in cm (花瓣長):5\n",
      "sepal width in cm (花瓣寬):6\n",
      "petal length in cm (花萼長):5\n",
      "petal width in cm  (花萼寬):8\n"
     ]
    },
    {
     "ename": "TypeError",
     "evalue": "'<' not supported between instances of 'NoneType' and 'int'",
     "output_type": "error",
     "traceback": [
      "\u001b[1;31m---------------------------------------------------------------------------\u001b[0m",
      "\u001b[1;31mTypeError\u001b[0m                                 Traceback (most recent call last)",
      "\u001b[1;32m<ipython-input-149-0af304b26d8e>\u001b[0m in \u001b[0;36m<module>\u001b[1;34m()\u001b[0m\n\u001b[0;32m     20\u001b[0m \u001b[1;33m\u001b[0m\u001b[0m\n\u001b[0;32m     21\u001b[0m \u001b[1;31m#以loadKnnModel 對輸入樣本作品種預測\u001b[0m\u001b[1;33m\u001b[0m\u001b[1;33m\u001b[0m\u001b[0m\n\u001b[1;32m---> 22\u001b[1;33m \u001b[0mpred\u001b[0m\u001b[1;33m=\u001b[0m\u001b[0mloadKnnModel\u001b[0m\u001b[1;33m.\u001b[0m\u001b[0mpredict\u001b[0m\u001b[1;33m(\u001b[0m\u001b[0minput_array\u001b[0m\u001b[1;33m)\u001b[0m\u001b[1;33m\u001b[0m\u001b[0m\n\u001b[0m\u001b[0;32m     23\u001b[0m \u001b[1;33m\u001b[0m\u001b[0m\n\u001b[0;32m     24\u001b[0m \u001b[1;31m#建立一個輸出字典 \"dict_iris\"\u001b[0m\u001b[1;33m\u001b[0m\u001b[1;33m\u001b[0m\u001b[0m\n",
      "\u001b[1;32mC:\\ProgramData\\Anaconda3\\lib\\site-packages\\sklearn\\neighbors\\classification.py\u001b[0m in \u001b[0;36mpredict\u001b[1;34m(self, X)\u001b[0m\n\u001b[0;32m    143\u001b[0m         \u001b[0mX\u001b[0m \u001b[1;33m=\u001b[0m \u001b[0mcheck_array\u001b[0m\u001b[1;33m(\u001b[0m\u001b[0mX\u001b[0m\u001b[1;33m,\u001b[0m \u001b[0maccept_sparse\u001b[0m\u001b[1;33m=\u001b[0m\u001b[1;34m'csr'\u001b[0m\u001b[1;33m)\u001b[0m\u001b[1;33m\u001b[0m\u001b[0m\n\u001b[0;32m    144\u001b[0m \u001b[1;33m\u001b[0m\u001b[0m\n\u001b[1;32m--> 145\u001b[1;33m         \u001b[0mneigh_dist\u001b[0m\u001b[1;33m,\u001b[0m \u001b[0mneigh_ind\u001b[0m \u001b[1;33m=\u001b[0m \u001b[0mself\u001b[0m\u001b[1;33m.\u001b[0m\u001b[0mkneighbors\u001b[0m\u001b[1;33m(\u001b[0m\u001b[0mX\u001b[0m\u001b[1;33m)\u001b[0m\u001b[1;33m\u001b[0m\u001b[0m\n\u001b[0m\u001b[0;32m    146\u001b[0m \u001b[1;33m\u001b[0m\u001b[0m\n\u001b[0;32m    147\u001b[0m         \u001b[0mclasses_\u001b[0m \u001b[1;33m=\u001b[0m \u001b[0mself\u001b[0m\u001b[1;33m.\u001b[0m\u001b[0mclasses_\u001b[0m\u001b[1;33m\u001b[0m\u001b[0m\n",
      "\u001b[1;32mC:\\ProgramData\\Anaconda3\\lib\\site-packages\\sklearn\\neighbors\\base.py\u001b[0m in \u001b[0;36mkneighbors\u001b[1;34m(self, X, n_neighbors, return_distance)\u001b[0m\n\u001b[0;32m    350\u001b[0m         \u001b[0msample_range\u001b[0m \u001b[1;33m=\u001b[0m \u001b[0mnp\u001b[0m\u001b[1;33m.\u001b[0m\u001b[0marange\u001b[0m\u001b[1;33m(\u001b[0m\u001b[0mn_samples\u001b[0m\u001b[1;33m)\u001b[0m\u001b[1;33m[\u001b[0m\u001b[1;33m:\u001b[0m\u001b[1;33m,\u001b[0m \u001b[1;32mNone\u001b[0m\u001b[1;33m]\u001b[0m\u001b[1;33m\u001b[0m\u001b[0m\n\u001b[0;32m    351\u001b[0m \u001b[1;33m\u001b[0m\u001b[0m\n\u001b[1;32m--> 352\u001b[1;33m         \u001b[0mn_jobs\u001b[0m \u001b[1;33m=\u001b[0m \u001b[0m_get_n_jobs\u001b[0m\u001b[1;33m(\u001b[0m\u001b[0mself\u001b[0m\u001b[1;33m.\u001b[0m\u001b[0mn_jobs\u001b[0m\u001b[1;33m)\u001b[0m\u001b[1;33m\u001b[0m\u001b[0m\n\u001b[0m\u001b[0;32m    353\u001b[0m         \u001b[1;32mif\u001b[0m \u001b[0mself\u001b[0m\u001b[1;33m.\u001b[0m\u001b[0m_fit_method\u001b[0m \u001b[1;33m==\u001b[0m \u001b[1;34m'brute'\u001b[0m\u001b[1;33m:\u001b[0m\u001b[1;33m\u001b[0m\u001b[0m\n\u001b[0;32m    354\u001b[0m             \u001b[1;31m# for efficiency, use squared euclidean distances\u001b[0m\u001b[1;33m\u001b[0m\u001b[1;33m\u001b[0m\u001b[0m\n",
      "\u001b[1;32mC:\\ProgramData\\Anaconda3\\lib\\site-packages\\sklearn\\utils\\__init__.py\u001b[0m in \u001b[0;36m_get_n_jobs\u001b[1;34m(n_jobs)\u001b[0m\n\u001b[0;32m    462\u001b[0m     \u001b[0mValueError\u001b[0m\u001b[1;33m:\u001b[0m \u001b[0mParameter\u001b[0m \u001b[0mn_jobs\u001b[0m \u001b[1;33m==\u001b[0m \u001b[1;36m0\u001b[0m \u001b[0mhas\u001b[0m \u001b[0mno\u001b[0m \u001b[0mmeaning\u001b[0m\u001b[1;33m.\u001b[0m\u001b[1;33m\u001b[0m\u001b[0m\n\u001b[0;32m    463\u001b[0m     \"\"\"\n\u001b[1;32m--> 464\u001b[1;33m     \u001b[1;32mif\u001b[0m \u001b[0mn_jobs\u001b[0m \u001b[1;33m<\u001b[0m \u001b[1;36m0\u001b[0m\u001b[1;33m:\u001b[0m\u001b[1;33m\u001b[0m\u001b[0m\n\u001b[0m\u001b[0;32m    465\u001b[0m         \u001b[1;32mreturn\u001b[0m \u001b[0mmax\u001b[0m\u001b[1;33m(\u001b[0m\u001b[0mcpu_count\u001b[0m\u001b[1;33m(\u001b[0m\u001b[1;33m)\u001b[0m \u001b[1;33m+\u001b[0m \u001b[1;36m1\u001b[0m \u001b[1;33m+\u001b[0m \u001b[0mn_jobs\u001b[0m\u001b[1;33m,\u001b[0m \u001b[1;36m1\u001b[0m\u001b[1;33m)\u001b[0m\u001b[1;33m\u001b[0m\u001b[0m\n\u001b[0;32m    466\u001b[0m     \u001b[1;32melif\u001b[0m \u001b[0mn_jobs\u001b[0m \u001b[1;33m==\u001b[0m \u001b[1;36m0\u001b[0m\u001b[1;33m:\u001b[0m\u001b[1;33m\u001b[0m\u001b[0m\n",
      "\u001b[1;31mTypeError\u001b[0m: '<' not supported between instances of 'NoneType' and 'int'"
     ]
    }
   ],
   "source": [
    "import numpy as np\n",
    "#import joblib module\n",
    "#conda install -c anaconda joblib\n",
    "##pip install tqdm\n",
    "from sklearn.externals import joblib \n",
    "#將 model file 'iris_knn.pkl' 以 joblib.load() 載入\n",
    "loadKnnModel=joblib.load('iris_knn.pkl')\n",
    "\n",
    "#=================================================\n",
    "#使用者輸入介面:\n",
    "print(\"請輸入鳶尾花)樣本尺寸(單位為公分):\")\n",
    "sepal_length=float(input(\"sepal length in cm (花瓣長):\"))\n",
    "sepal_width=float(input(\"sepal width in cm (花瓣寬):\"))\n",
    "petal_length=float(input(\"petal length in cm (花萼長):\"))\n",
    "petal_width=float(input(\"petal width in cm  (花萼寬):\"))\n",
    "input_list=[sepal_length,sepal_width,petal_length,petal_width]\n",
    "\n",
    "#將使用者輸入轉成(1,4)的numpy.ndarray\n",
    "input_array=np.array([input_list])\n",
    "\n",
    "#以loadKnnModel 對輸入樣本作品種預測\n",
    "pred=loadKnnModel.predict(input_array)\n",
    "\n",
    "#建立一個輸出字典 \"dict_iris\"\n",
    "dict_iris={0: 'Iris-setosa', 1: 'Iris-versicolor',2: 'Iris-virginica'}\n",
    "\n",
    "#列印預測結果\n",
    "#印出預測鳶尾花樣本的品種\n",
    "print(\"=========================================\")\n",
    "print(\"鳶尾花樣本尺寸:\")\n",
    "print(\"sepal length in cm (花瓣長):\",sepal_length,\" \\n\",\n",
    "      \"sepal width in cm (花瓣寬):\",sepal_width,\" \\n\",\n",
    "     \"petal length in cm (花萼長):\",petal_length,\"\\n \",\n",
    "     \"petal width in cm  (花萼寬):\",petal_width)\n",
    "print(\"預測品種是:\",dict_iris[pred[0]])"
   ]
  }
 ],
 "metadata": {
  "kernelspec": {
   "display_name": "Python 3",
   "language": "python",
   "name": "python3"
  },
  "language_info": {
   "codemirror_mode": {
    "name": "ipython",
    "version": 3
   },
   "file_extension": ".py",
   "mimetype": "text/x-python",
   "name": "python",
   "nbconvert_exporter": "python",
   "pygments_lexer": "ipython3",
   "version": "3.7.0"
  }
 },
 "nbformat": 4,
 "nbformat_minor": 2
}
